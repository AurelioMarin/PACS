{
 "cells": [
  {
   "cell_type": "code",
   "execution_count": 97,
   "metadata": {
    "ExecuteTime": {
     "end_time": "2020-06-07T10:54:02.461680Z",
     "start_time": "2020-06-07T10:54:02.456695Z"
    }
   },
   "outputs": [],
   "source": [
    "import os.path \n",
    "import numpy as np\n",
    "import pandas as pd\n",
    "import csv\n",
    "\n",
    "from sklearn.preprocessing import StandardScaler\n",
    "from sklearn.model_selection import train_test_split\n",
    "from sklearn.metrics import confusion_matrix,accuracy_score\n",
    "    \n",
    "import tensorflow as tf\n",
    "\n",
    "from tensorflow import keras\n",
    "from tensorflow.keras import layers\n",
    "from tensorflow.keras.utils import to_categorical"
   ]
  },
  {
   "cell_type": "code",
   "execution_count": null,
   "metadata": {},
   "outputs": [],
   "source": [
    "directory =os.path.dirname(os.getcwd())"
   ]
  },
  {
   "cell_type": "code",
   "execution_count": 79,
   "metadata": {
    "ExecuteTime": {
     "end_time": "2020-06-07T10:38:00.831334Z",
     "start_time": "2020-06-07T10:37:57.361201Z"
    }
   },
   "outputs": [],
   "source": [
    "Fashion=pd.read_csv(directory+'\\\\Data\\\\\\fashion-mnist_train.csv')"
   ]
  },
  {
   "cell_type": "code",
   "execution_count": 80,
   "metadata": {
    "ExecuteTime": {
     "end_time": "2020-06-07T10:38:01.029379Z",
     "start_time": "2020-06-07T10:38:00.833324Z"
    },
    "scrolled": true
   },
   "outputs": [],
   "source": [
    "Fashion_labels=Fashion.pop('label')"
   ]
  },
  {
   "cell_type": "code",
   "execution_count": 81,
   "metadata": {
    "ExecuteTime": {
     "end_time": "2020-06-07T10:38:01.070182Z",
     "start_time": "2020-06-07T10:38:01.031286Z"
    }
   },
   "outputs": [],
   "source": [
    "Fashion_labels=to_categorical(Fashion_labels)"
   ]
  },
  {
   "cell_type": "code",
   "execution_count": 82,
   "metadata": {
    "ExecuteTime": {
     "end_time": "2020-06-07T10:38:01.078194Z",
     "start_time": "2020-06-07T10:38:01.073184Z"
    }
   },
   "outputs": [],
   "source": [
    "Fashion = Fashion.values.reshape((len(Fashion), 28, 28,1))"
   ]
  },
  {
   "cell_type": "code",
   "execution_count": 66,
   "metadata": {
    "ExecuteTime": {
     "end_time": "2020-06-07T10:26:22.358620Z",
     "start_time": "2020-06-07T10:26:22.353634Z"
    }
   },
   "outputs": [],
   "source": [
    "Fashion_labels=Fashion_labels[0:125]\n",
    "Fashion=Fashion[0:125]"
   ]
  },
  {
   "cell_type": "code",
   "execution_count": 83,
   "metadata": {
    "ExecuteTime": {
     "end_time": "2020-06-07T10:38:04.252670Z",
     "start_time": "2020-06-07T10:38:03.107322Z"
    }
   },
   "outputs": [],
   "source": [
    "Fashion_train,Fashion_test,Labels_train,Labels_test=train_test_split(Fashion,Fashion_labels,train_size=0.8,test_size=0.2,random_state=42)\n",
    "Fashion_val,Fashion_test,Labels_val,Labels_test=train_test_split(Fashion_test,Labels_test,train_size=0.5,test_size=0.5,random_state=42)"
   ]
  },
  {
   "cell_type": "markdown",
   "metadata": {
    "ExecuteTime": {
     "end_time": "2020-06-07T09:57:22.348770Z",
     "start_time": "2020-06-07T09:57:22.343778Z"
    }
   },
   "source": [
    "# Model definition"
   ]
  },
  {
   "cell_type": "code",
   "execution_count": 84,
   "metadata": {
    "ExecuteTime": {
     "end_time": "2020-06-07T10:38:04.755393Z",
     "start_time": "2020-06-07T10:38:04.648079Z"
    }
   },
   "outputs": [],
   "source": [
    "model = tf.keras.models.Sequential()\n",
    "model.add(tf.keras.layers.Conv2D(8,kernel_size=5, padding=\"same\",activation='relu', input_shape=(28,28,1)))\n",
    "model.add(tf.keras.layers.MaxPooling2D())\n",
    "model.add(tf.keras.layers.Conv2D(4,kernel_size=3,activation='relu', padding=\"same\"))\n",
    "model.add(tf.keras.layers.MaxPooling2D())\n",
    "model.add(tf.keras.layers.Conv2D(2,kernel_size=3, activation='relu',padding=\"same\"))\n",
    "model.add(tf.keras.layers.MaxPooling2D())\n",
    "model.add(tf.keras.layers.Flatten())\n",
    "model.add(tf.keras.layers.Dense(10,activation=\"softmax\"))"
   ]
  },
  {
   "cell_type": "code",
   "execution_count": 85,
   "metadata": {
    "ExecuteTime": {
     "end_time": "2020-06-07T10:38:05.089574Z",
     "start_time": "2020-06-07T10:38:05.002149Z"
    }
   },
   "outputs": [],
   "source": [
    "opt=tf.keras.optimizers.SGD(0.001, momentum=0.9)\n",
    "model.compile(optimizer=opt, loss='mse')"
   ]
  },
  {
   "cell_type": "code",
   "execution_count": 86,
   "metadata": {
    "ExecuteTime": {
     "end_time": "2020-06-07T10:38:05.476589Z",
     "start_time": "2020-06-07T10:38:05.472589Z"
    }
   },
   "outputs": [],
   "source": [
    "EVALUATION_INTERVAL = 3000\n",
    "EPOCHS = 12"
   ]
  },
  {
   "cell_type": "code",
   "execution_count": 87,
   "metadata": {
    "ExecuteTime": {
     "end_time": "2020-06-07T10:41:32.872850Z",
     "start_time": "2020-06-07T10:38:05.932854Z"
    }
   },
   "outputs": [
    {
     "name": "stdout",
     "output_type": "stream",
     "text": [
      "Train on 48000 samples, validate on 6000 samples\n",
      "Epoch 1/12\n",
      "48000/48000 [==============================] - 18s 369us/sample - loss: 0.0882 - val_loss: 0.0849\n",
      "Epoch 2/12\n",
      "48000/48000 [==============================] - 17s 353us/sample - loss: 0.0825 - val_loss: 0.0788\n",
      "Epoch 3/12\n",
      "48000/48000 [==============================] - 17s 361us/sample - loss: 0.0768 - val_loss: 0.0755\n",
      "Epoch 4/12\n",
      "48000/48000 [==============================] - 17s 354us/sample - loss: 0.0744 - val_loss: 0.0734\n",
      "Epoch 5/12\n",
      "48000/48000 [==============================] - 17s 357us/sample - loss: 0.0726 - val_loss: 0.0689\n",
      "Epoch 6/12\n",
      "48000/48000 [==============================] - 17s 357us/sample - loss: 0.0657 - val_loss: 0.0637\n",
      "Epoch 7/12\n",
      "48000/48000 [==============================] - 18s 365us/sample - loss: 0.0628 - val_loss: 0.0617\n",
      "Epoch 8/12\n",
      "48000/48000 [==============================] - 17s 358us/sample - loss: 0.0602 - val_loss: 0.0594\n",
      "Epoch 9/12\n",
      "48000/48000 [==============================] - 17s 355us/sample - loss: 0.0579 - val_loss: 0.0576\n",
      "Epoch 10/12\n",
      "48000/48000 [==============================] - 17s 358us/sample - loss: 0.0558 - val_loss: 0.0550\n",
      "Epoch 11/12\n",
      "48000/48000 [==============================] - 17s 360us/sample - loss: 0.0538 - val_loss: 0.0531\n",
      "Epoch 12/12\n",
      "48000/48000 [==============================] - 17s 358us/sample - loss: 0.0522 - val_loss: 0.0524\n"
     ]
    }
   ],
   "source": [
    "History=model.fit(Fashion_train, Labels_train,\n",
    "  epochs=EPOCHS, validation_data=(Fashion_val,Labels_val))"
   ]
  },
  {
   "cell_type": "markdown",
   "metadata": {},
   "source": [
    "# Test Analysis"
   ]
  },
  {
   "cell_type": "code",
   "execution_count": 88,
   "metadata": {
    "ExecuteTime": {
     "end_time": "2020-06-07T10:50:25.114063Z",
     "start_time": "2020-06-07T10:50:24.045555Z"
    }
   },
   "outputs": [],
   "source": [
    "test_predictions=model.predict(Fashion_test)"
   ]
  },
  {
   "cell_type": "code",
   "execution_count": 89,
   "metadata": {
    "ExecuteTime": {
     "end_time": "2020-06-07T10:50:26.371353Z",
     "start_time": "2020-06-07T10:50:26.360766Z"
    }
   },
   "outputs": [
    {
     "data": {
      "text/plain": [
       "(array([[0., 0., 0., ..., 0., 0., 0.],\n",
       "        [0., 0., 0., ..., 1., 0., 0.],\n",
       "        [0., 0., 0., ..., 0., 0., 0.],\n",
       "        ...,\n",
       "        [1., 0., 0., ..., 0., 0., 0.],\n",
       "        [0., 0., 0., ..., 0., 0., 0.],\n",
       "        [0., 0., 0., ..., 1., 0., 0.]], dtype=float32),\n",
       " array([[0., 0., 0., ..., 0., 0., 0.],\n",
       "        [0., 0., 0., ..., 1., 0., 0.],\n",
       "        [0., 0., 0., ..., 0., 0., 0.],\n",
       "        ...,\n",
       "        [1., 0., 0., ..., 0., 0., 0.],\n",
       "        [0., 0., 0., ..., 0., 0., 0.],\n",
       "        [0., 0., 0., ..., 1., 0., 0.]], dtype=float32))"
      ]
     },
     "execution_count": 89,
     "metadata": {},
     "output_type": "execute_result"
    }
   ],
   "source": [
    "test_predictions.round(),Labels_test"
   ]
  },
  {
   "cell_type": "code",
   "execution_count": 92,
   "metadata": {
    "ExecuteTime": {
     "end_time": "2020-06-07T10:52:05.617269Z",
     "start_time": "2020-06-07T10:52:05.611794Z"
    }
   },
   "outputs": [
    {
     "data": {
      "text/plain": [
       "array([3, 7, 6, ..., 0, 5, 7], dtype=int64)"
      ]
     },
     "execution_count": 92,
     "metadata": {},
     "output_type": "execute_result"
    }
   ],
   "source": [
    "Labels_test.argmax(axis=1)"
   ]
  },
  {
   "cell_type": "code",
   "execution_count": 94,
   "metadata": {
    "ExecuteTime": {
     "end_time": "2020-06-07T10:52:20.670794Z",
     "start_time": "2020-06-07T10:52:20.659846Z"
    },
    "scrolled": false
   },
   "outputs": [
    {
     "data": {
      "text/plain": [
       "array([[428,   0,   3,  27,   7,  11, 118,   0,   0,   0],\n",
       "       [  9, 504,  30,   9,  18,  21,  33,   0,   4,   1],\n",
       "       [ 16,   3, 102,   7,  23,  22,  56,   1,   1,   0],\n",
       "       [ 54,  56,  13, 458,  63,   8,  31,   1,   9,   1],\n",
       "       [ 67,  16, 420,  81, 472,  12, 320,   0,  37,  20],\n",
       "       [  5,   0,   2,   6,   0, 252,  11,  24,   9,  22],\n",
       "       [  7,   2,  12,   2,   6,  15,  18,   0,   4,   1],\n",
       "       [  5,   0,   0,   1,   1, 100,   5, 547,   5,  50],\n",
       "       [  7,   1,   9,   6,   7,  46,  17,   6, 485,   0],\n",
       "       [  1,   0,   4,   1,   2,  90,  13,  56,  23, 521]], dtype=int64)"
      ]
     },
     "execution_count": 94,
     "metadata": {},
     "output_type": "execute_result"
    }
   ],
   "source": [
    "confusion_matrix(test_predictions.argmax(axis=1),Labels_test.argmax(axis=1))"
   ]
  },
  {
   "cell_type": "code",
   "execution_count": 98,
   "metadata": {
    "ExecuteTime": {
     "end_time": "2020-06-07T10:54:05.554926Z",
     "start_time": "2020-06-07T10:54:05.547911Z"
    },
    "scrolled": true
   },
   "outputs": [
    {
     "data": {
      "text/plain": [
       "0.6311666666666667"
      ]
     },
     "execution_count": 98,
     "metadata": {},
     "output_type": "execute_result"
    }
   ],
   "source": [
    "accuracy_score(test_predictions.argmax(axis=1),Labels_test.argmax(axis=1))"
   ]
  }
 ],
 "metadata": {
  "kernelspec": {
   "display_name": "Python 3",
   "language": "python",
   "name": "python3"
  },
  "language_info": {
   "codemirror_mode": {
    "name": "ipython",
    "version": 3
   },
   "file_extension": ".py",
   "mimetype": "text/x-python",
   "name": "python",
   "nbconvert_exporter": "python",
   "pygments_lexer": "ipython3",
   "version": "3.7.6"
  }
 },
 "nbformat": 4,
 "nbformat_minor": 4
}
