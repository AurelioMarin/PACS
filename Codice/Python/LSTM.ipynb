{
 "cells": [
  {
   "cell_type": "code",
   "execution_count": 42,
   "metadata": {
    "ExecuteTime": {
     "end_time": "2020-06-07T12:50:16.202233Z",
     "start_time": "2020-06-07T12:50:16.195270Z"
    }
   },
   "outputs": [
    {
     "name": "stderr",
     "output_type": "stream",
     "text": [
      "D:\\Users\\aumar\\anaconda3\\lib\\site-packages\\ipykernel_launcher.py:7: FutureWarning: The pandas.datetime class is deprecated and will be removed from pandas in a future version. Import from datetime module instead.\n",
      "  import sys\n"
     ]
    }
   ],
   "source": [
    "import os.path \n",
    "import pandas as pd\n",
    "from pandas import DataFrame\n",
    "from pandas import Series\n",
    "from pandas import concat\n",
    "from pandas import read_csv\n",
    "\n",
    "from pandas import datetime\n",
    "from sklearn.metrics import mean_squared_error,r2_score\n",
    "from sklearn.preprocessing import MinMaxScaler\n",
    "from keras.models import Sequential\n",
    "from keras.layers import Dense\n",
    "from keras.layers import LSTM\n",
    "from math import sqrt\n",
    "from matplotlib import pyplot\n",
    "import numpy"
   ]
  },
  {
   "cell_type": "code",
   "execution_count": null,
   "metadata": {},
   "outputs": [],
   "source": [
    "directory =os.path.dirname(os.getcwd())"
   ]
  },
  {
   "cell_type": "code",
   "execution_count": 2,
   "metadata": {
    "ExecuteTime": {
     "end_time": "2020-06-07T12:38:23.386130Z",
     "start_time": "2020-06-07T12:38:23.379148Z"
    },
    "scrolled": false
   },
   "outputs": [],
   "source": [
    "# frame a sequence as a supervised learning problem\n",
    "def timeseries_to_supervised(data, lag=1):\n",
    "    df = DataFrame(data)\n",
    "    columns = [df.shift(i) for i in range(1, lag+1)]\n",
    "    columns.append(df)\n",
    "    df = concat(columns, axis=1)\n",
    "    df.fillna(0, inplace=True)\n",
    "    return df\n",
    "\n",
    "# create a differenced series to make them stationary\n",
    "def difference(dataset, interval=1):\n",
    "    diff = list()\n",
    "    for i in range(interval, len(dataset)):\n",
    "        value = dataset[i] - dataset[i - interval]\n",
    "        diff.append(value)\n",
    "    return Series(diff)\n",
    "\n",
    "# invert differenced value\n",
    "def inverse_difference(history, yhat, interval=1):\n",
    "    return yhat + history[-interval]"
   ]
  },
  {
   "cell_type": "code",
   "execution_count": 7,
   "metadata": {
    "ExecuteTime": {
     "end_time": "2020-06-07T12:40:32.039867Z",
     "start_time": "2020-06-07T12:40:32.024746Z"
    }
   },
   "outputs": [],
   "source": [
    "# load dataset\n",
    "shampoo=pd.read_csv(directory+'\\\\Data\\\\shampo_sales.csv',header=0,names=['Sales'])\n",
    "# transform data to be stationary\n",
    "raw_shampoo = shampoo.values\n",
    "diff_shampoo = difference(raw_shampoo, 1)\n",
    "# transform data to be supervised learning\n",
    "supervised = timeseries_to_supervised(diff_shampoo, 4)\n",
    "supervised_values = supervised.values\n",
    "\n",
    "# split data into train and test-sets\n",
    "train_data, test_data = supervised_values[0:-12,:], supervised_values[-12:,:]\n",
    "Train_X=train_data[:, 0:-1]\n",
    "Train_X = Train_X.reshape(Train_X.shape[0], 1, Train_X.shape[1])\n",
    "Train_Y=train_data[:, -1]\n",
    "Test_X=test_data[:, 0:-1]\n",
    "Test_X = Test_X.reshape(Test_X.shape[0], 1, Test_X.shape[1])\n",
    "Test_Y=test_data[:, -1]"
   ]
  },
  {
   "cell_type": "markdown",
   "metadata": {
    "ExecuteTime": {
     "end_time": "2020-06-07T09:57:22.348770Z",
     "start_time": "2020-06-07T09:57:22.343778Z"
    }
   },
   "source": [
    "# Model definition"
   ]
  },
  {
   "cell_type": "code",
   "execution_count": 8,
   "metadata": {
    "ExecuteTime": {
     "end_time": "2020-06-07T12:40:33.556478Z",
     "start_time": "2020-06-07T12:40:33.270438Z"
    }
   },
   "outputs": [
    {
     "name": "stdout",
     "output_type": "stream",
     "text": [
      "WARNING:tensorflow:From D:\\Users\\aumar\\anaconda3\\lib\\site-packages\\tensorflow\\python\\ops\\resource_variable_ops.py:435: colocate_with (from tensorflow.python.framework.ops) is deprecated and will be removed in a future version.\n",
      "Instructions for updating:\n",
      "Colocations handled automatically by placer.\n"
     ]
    }
   ],
   "source": [
    "model = Sequential()\n",
    "model.add(LSTM(4, batch_input_shape=(1, Train_X.shape[1], Train_X.shape[2]), stateful=True))\n",
    "model.add(Dense(1))\n"
   ]
  },
  {
   "cell_type": "code",
   "execution_count": 9,
   "metadata": {
    "ExecuteTime": {
     "end_time": "2020-06-07T12:40:35.777996Z",
     "start_time": "2020-06-07T12:40:35.774036Z"
    }
   },
   "outputs": [],
   "source": [
    "EPOCHS = 3000"
   ]
  },
  {
   "cell_type": "code",
   "execution_count": 12,
   "metadata": {
    "ExecuteTime": {
     "end_time": "2020-06-07T12:43:46.604401Z",
     "start_time": "2020-06-07T12:42:35.572687Z"
    }
   },
   "outputs": [],
   "source": [
    "model.compile(loss='mean_squared_error', optimizer='adam')\n",
    "for i in range(EPOCHS):\n",
    "    model.fit(Train_X, Train_Y, epochs=1, batch_size=1, verbose=0, shuffle=False)\n",
    "    model.reset_states()\n"
   ]
  },
  {
   "cell_type": "markdown",
   "metadata": {},
   "source": [
    "# Test Analysis"
   ]
  },
  {
   "cell_type": "code",
   "execution_count": 13,
   "metadata": {
    "ExecuteTime": {
     "end_time": "2020-06-07T12:44:07.272127Z",
     "start_time": "2020-06-07T12:44:07.265120Z"
    }
   },
   "outputs": [
    {
     "data": {
      "text/plain": [
       "(23, 1, 4)"
      ]
     },
     "execution_count": 13,
     "metadata": {},
     "output_type": "execute_result"
    }
   ],
   "source": [
    "Train_X.shape"
   ]
  },
  {
   "cell_type": "code",
   "execution_count": 15,
   "metadata": {
    "ExecuteTime": {
     "end_time": "2020-06-07T12:44:22.830155Z",
     "start_time": "2020-06-07T12:44:22.647110Z"
    }
   },
   "outputs": [
    {
     "data": {
      "text/plain": [
       "array([[-109.21513  ],\n",
       "       [  32.81757  ],\n",
       "       [ -61.849033 ],\n",
       "       [  11.891741 ],\n",
       "       [  42.879803 ],\n",
       "       [  -2.4843707],\n",
       "       [  -6.0621796],\n",
       "       [ -33.33722  ],\n",
       "       [  23.718788 ],\n",
       "       [ 118.89114  ],\n",
       "       [ -33.474358 ],\n",
       "       [  25.629417 ],\n",
       "       [  32.81757  ],\n",
       "       [  73.25985  ],\n",
       "       [  67.72335  ],\n",
       "       [ -83.01368  ],\n",
       "       [  23.718788 ],\n",
       "       [ -65.43468  ],\n",
       "       [  47.47849  ],\n",
       "       [ -12.14569  ],\n",
       "       [  66.07163  ],\n",
       "       [ -40.660767 ],\n",
       "       [  -2.4845695]], dtype=float32)"
      ]
     },
     "execution_count": 15,
     "metadata": {},
     "output_type": "execute_result"
    }
   ],
   "source": [
    "# forecast the entire training dataset to build up state for forecasting\n",
    "model.predict(Train_X, batch_size=1)"
   ]
  },
  {
   "cell_type": "code",
   "execution_count": 21,
   "metadata": {
    "ExecuteTime": {
     "end_time": "2020-06-07T12:47:02.656786Z",
     "start_time": "2020-06-07T12:47:02.651310Z"
    }
   },
   "outputs": [
    {
     "data": {
      "text/plain": [
       "(1, 4)"
      ]
     },
     "execution_count": 21,
     "metadata": {},
     "output_type": "execute_result"
    }
   ],
   "source": [
    "X.shape"
   ]
  },
  {
   "cell_type": "code",
   "execution_count": 26,
   "metadata": {
    "ExecuteTime": {
     "end_time": "2020-06-07T12:47:56.165038Z",
     "start_time": "2020-06-07T12:47:56.145122Z"
    }
   },
   "outputs": [
    {
     "name": "stdout",
     "output_type": "stream",
     "text": [
      "Month=1, Predicted=425.233868, Expected=339.700000\n",
      "Month=2, Predicted=390.315284, Expected=440.400000\n",
      "Month=3, Predicted=435.182233, Expected=315.900000\n",
      "Month=4, Predicted=313.415430, Expected=439.300000\n",
      "Month=5, Predicted=405.758130, Expected=401.300000\n",
      "Month=6, Predicted=398.812394, Expected=437.400000\n",
      "Month=7, Predicted=463.029417, Expected=575.500000\n",
      "Month=8, Predicted=542.027946, Expected=407.600000\n",
      "Month=9, Predicted=440.417570, Expected=682.000000\n",
      "Month=10, Predicted=608.086113, Expected=475.300000\n",
      "Month=11, Predicted=515.326447, Expected=581.300000\n",
      "Month=12, Predicted=614.117570, Expected=646.900000\n"
     ]
    }
   ],
   "source": [
    "# walk-forward validation on the test data\n",
    "predictions = list()\n",
    "for i in range(len(test_data)):\n",
    "    # make one-step forecast\n",
    "    X, y = Test_X[i,:],Test_Y[i]\n",
    "    X= X.reshape(1, 1, 4)\n",
    "    yhat = model.predict(X, batch_size=1)\n",
    "    # invert scaling\n",
    "    #yhat = invert_scale(scaler, X, yhat)\n",
    "    # invert differencing\n",
    "    yhat = inverse_difference(raw_shampoo, yhat, len(test_data)+1-i)\n",
    "    # store forecast\n",
    "    predictions.append(yhat)\n",
    "    expected = raw_shampoo[len(train_data) + i + 1]\n",
    "    print('Month=%d, Predicted=%f, Expected=%f' % (i+1, yhat, expected))\n"
   ]
  },
  {
   "cell_type": "code",
   "execution_count": 39,
   "metadata": {
    "ExecuteTime": {
     "end_time": "2020-06-07T12:49:56.137888Z",
     "start_time": "2020-06-07T12:49:56.133916Z"
    }
   },
   "outputs": [],
   "source": [
    "predictions=numpy.reshape(numpy.array(predictions),(12,1))\n"
   ]
  },
  {
   "cell_type": "code",
   "execution_count": 37,
   "metadata": {
    "ExecuteTime": {
     "end_time": "2020-06-07T12:49:19.478908Z",
     "start_time": "2020-06-07T12:49:19.473557Z"
    }
   },
   "outputs": [
    {
     "data": {
      "text/plain": [
       "(12, 1)"
      ]
     },
     "execution_count": 37,
     "metadata": {},
     "output_type": "execute_result"
    }
   ],
   "source": [
    "raw_shampoo[-12:].shape"
   ]
  },
  {
   "cell_type": "code",
   "execution_count": 43,
   "metadata": {
    "ExecuteTime": {
     "end_time": "2020-06-07T12:50:36.668785Z",
     "start_time": "2020-06-07T12:50:36.660257Z"
    },
    "scrolled": false
   },
   "outputs": [
    {
     "name": "stdout",
     "output_type": "stream",
     "text": [
      "Test RMSE: 113.119\n",
      "R-square, Testing:  -0.016041763053766145\n"
     ]
    }
   ],
   "source": [
    "rmse = sqrt(mean_squared_error(raw_shampoo[-12:], predictions))\n",
    "print('Test RMSE: %.3f' % rmse)\n",
    "rsq = r2_score(raw_shampoo[-12:], predictions) #R-Squared on the testing data\n",
    "print('R-square, Testing: ',rsq)"
   ]
  }
 ],
 "metadata": {
  "kernelspec": {
   "display_name": "Python 3",
   "language": "python",
   "name": "python3"
  },
  "language_info": {
   "codemirror_mode": {
    "name": "ipython",
    "version": 3
   },
   "file_extension": ".py",
   "mimetype": "text/x-python",
   "name": "python",
   "nbconvert_exporter": "python",
   "pygments_lexer": "ipython3",
   "version": "3.7.6"
  }
 },
 "nbformat": 4,
 "nbformat_minor": 4
}
